{
 "cells": [
  {
   "cell_type": "markdown",
   "metadata": {
    "slideshow": {
     "slide_type": "skip"
    }
   },
   "source": [
    "# Pandana demo\n",
    "\n",
    "Sam Maurer, July 2020\n",
    "\n",
    "This notebook demonstrates the main features of the [Pandana](https://github.com/UDST/pandana/) library, a Python package for network analysis that uses [contraction hierarchies](https://en.wikipedia.org/wiki/Contraction_hierarchies) to calculate super-fast travel accessibility metrics and shortest paths.\n",
    "\n",
    "See full documentation here: http://udst.github.io/pandana/\n",
    "\n",
    "### Sections\n",
    "\n",
    "- [1. Loading data](#section1)\n",
    "- [2. Shortest paths](#section2)\n",
    "- [3. Proximity](#section3)\n",
    "- [4. Accessibility](#section4)\n",
    "- [5. Visualization](#section5)"
   ]
  },
  {
   "cell_type": "code",
   "execution_count": 1,
   "metadata": {},
   "outputs": [
    {
     "name": "stdout",
     "output_type": "stream",
     "text": [
      "0.5\n"
     ]
    }
   ],
   "source": [
    "import numpy as np\n",
    "import pandas as pd\n",
    "\n",
    "import pandana\n",
    "print(pandana.__version__)"
   ]
  },
  {
   "cell_type": "markdown",
   "metadata": {},
   "source": [
    "Suppress scientific notation in the output."
   ]
  },
  {
   "cell_type": "code",
   "execution_count": 2,
   "metadata": {},
   "outputs": [],
   "source": [
    "pd.options.display.float_format = '{:.2f}'.format"
   ]
  },
  {
   "cell_type": "markdown",
   "metadata": {},
   "source": [
    "<a id='section1'></a>\n",
    "\n",
    "## 1. Loading data\n",
    "\n",
    "### Load street networks directly from Open Street Map\n",
    "\n",
    "This requires installing a Pandana extension called OSMnet.\n",
    "- `conda install osmnet` or  `pip install osmnet`\n",
    "\n",
    "You can use http://boundingbox.klokantech.com/ to get the coordinates of bounding boxes."
   ]
  },
  {
   "cell_type": "code",
   "execution_count": 3,
   "metadata": {},
   "outputs": [],
   "source": [
    "from pandana.loaders import osm\n",
    "\n",
    "import warnings\n",
    "warnings.filterwarnings('ignore')"
   ]
  },
  {
   "cell_type": "markdown",
   "metadata": {},
   "source": [
    "- [pandana.loaders.osm.pdna_network_from_bbox()](http://udst.github.io/pandana/loaders.html#openstreetmap-api)"
   ]
  },
  {
   "cell_type": "code",
   "execution_count": 4,
   "metadata": {},
   "outputs": [
    {
     "name": "stdout",
     "output_type": "stream",
     "text": [
      "Requesting network data within bounding box from Overpass API in 1 request(s)\n",
      "Posting to http://www.overpass-api.de/api/interpreter with timeout=180, \"{'data': '[out:json][timeout:180];(way[\"highway\"][\"highway\"!~\"motor|proposed|construction|abandoned|platform|raceway\"][\"foot\"!~\"no\"][\"pedestrians\"!~\"no\"](37.69800000,-122.51700000,37.81900000,-122.35400000);>;);out;'}\"\n",
      "Downloaded 23,350.9KB from www.overpass-api.de in 4.78 seconds\n",
      "Downloaded OSM network data within bounding box from Overpass API in 1 request(s) and 5.17 seconds\n",
      "Returning OSM data with 133,353 nodes and 34,346 ways...\n",
      "Edge node pairs completed. Took 39.16 seconds\n",
      "Returning processed graph with 41,623 nodes and 62,464 edges...\n",
      "Completed OSM data download and Pandana node and edge table creation in 46.39 seconds\n"
     ]
    }
   ],
   "source": [
    "network = osm.pdna_network_from_bbox(37.698, -122.517, 37.819, -122.354)  # San Francisco, CA"
   ]
  },
  {
   "cell_type": "markdown",
   "metadata": {},
   "source": [
    "### What does the network look like?\n",
    "\n",
    "Edges and nodes are visible as DataFrames."
   ]
  },
  {
   "cell_type": "code",
   "execution_count": 5,
   "metadata": {},
   "outputs": [
    {
     "data": {
      "text/html": [
       "<div>\n",
       "<style scoped>\n",
       "    .dataframe tbody tr th:only-of-type {\n",
       "        vertical-align: middle;\n",
       "    }\n",
       "\n",
       "    .dataframe tbody tr th {\n",
       "        vertical-align: top;\n",
       "    }\n",
       "\n",
       "    .dataframe thead th {\n",
       "        text-align: right;\n",
       "    }\n",
       "</style>\n",
       "<table border=\"1\" class=\"dataframe\">\n",
       "  <thead>\n",
       "    <tr style=\"text-align: right;\">\n",
       "      <th></th>\n",
       "      <th>x</th>\n",
       "      <th>y</th>\n",
       "    </tr>\n",
       "    <tr>\n",
       "      <th>id</th>\n",
       "      <th></th>\n",
       "      <th></th>\n",
       "    </tr>\n",
       "  </thead>\n",
       "  <tbody>\n",
       "    <tr>\n",
       "      <th>33242031</th>\n",
       "      <td>-122.42</td>\n",
       "      <td>37.80</td>\n",
       "    </tr>\n",
       "    <tr>\n",
       "      <th>54763573</th>\n",
       "      <td>-122.40</td>\n",
       "      <td>37.77</td>\n",
       "    </tr>\n",
       "    <tr>\n",
       "      <th>54891208</th>\n",
       "      <td>-122.39</td>\n",
       "      <td>37.77</td>\n",
       "    </tr>\n",
       "    <tr>\n",
       "      <th>54891395</th>\n",
       "      <td>-122.39</td>\n",
       "      <td>37.77</td>\n",
       "    </tr>\n",
       "    <tr>\n",
       "      <th>54891397</th>\n",
       "      <td>-122.39</td>\n",
       "      <td>37.77</td>\n",
       "    </tr>\n",
       "  </tbody>\n",
       "</table>\n",
       "</div>"
      ],
      "text/plain": [
       "               x     y\n",
       "id                    \n",
       "33242031 -122.42 37.80\n",
       "54763573 -122.40 37.77\n",
       "54891208 -122.39 37.77\n",
       "54891395 -122.39 37.77\n",
       "54891397 -122.39 37.77"
      ]
     },
     "execution_count": 5,
     "metadata": {},
     "output_type": "execute_result"
    }
   ],
   "source": [
    "network.nodes_df.head()"
   ]
  },
  {
   "cell_type": "code",
   "execution_count": 6,
   "metadata": {},
   "outputs": [
    {
     "data": {
      "text/html": [
       "<div>\n",
       "<style scoped>\n",
       "    .dataframe tbody tr th:only-of-type {\n",
       "        vertical-align: middle;\n",
       "    }\n",
       "\n",
       "    .dataframe tbody tr th {\n",
       "        vertical-align: top;\n",
       "    }\n",
       "\n",
       "    .dataframe thead th {\n",
       "        text-align: right;\n",
       "    }\n",
       "</style>\n",
       "<table border=\"1\" class=\"dataframe\">\n",
       "  <thead>\n",
       "    <tr style=\"text-align: right;\">\n",
       "      <th></th>\n",
       "      <th></th>\n",
       "      <th>from</th>\n",
       "      <th>to</th>\n",
       "      <th>distance</th>\n",
       "    </tr>\n",
       "  </thead>\n",
       "  <tbody>\n",
       "    <tr>\n",
       "      <th rowspan=\"2\" valign=\"top\">33242031</th>\n",
       "      <th>65292112</th>\n",
       "      <td>33242031</td>\n",
       "      <td>65292112</td>\n",
       "      <td>71.49</td>\n",
       "    </tr>\n",
       "    <tr>\n",
       "      <th>65292114</th>\n",
       "      <td>33242031</td>\n",
       "      <td>65292114</td>\n",
       "      <td>75.13</td>\n",
       "    </tr>\n",
       "    <tr>\n",
       "      <th rowspan=\"2\" valign=\"top\">54763573</th>\n",
       "      <th>3532718877</th>\n",
       "      <td>54763573</td>\n",
       "      <td>3532718877</td>\n",
       "      <td>85.64</td>\n",
       "    </tr>\n",
       "    <tr>\n",
       "      <th>7358092398</th>\n",
       "      <td>54763573</td>\n",
       "      <td>7358092398</td>\n",
       "      <td>161.06</td>\n",
       "    </tr>\n",
       "    <tr>\n",
       "      <th>54891208</th>\n",
       "      <th>54891397</th>\n",
       "      <td>54891208</td>\n",
       "      <td>54891397</td>\n",
       "      <td>101.15</td>\n",
       "    </tr>\n",
       "  </tbody>\n",
       "</table>\n",
       "</div>"
      ],
      "text/plain": [
       "                         from          to  distance\n",
       "33242031 65292112    33242031    65292112     71.49\n",
       "         65292114    33242031    65292114     75.13\n",
       "54763573 3532718877  54763573  3532718877     85.64\n",
       "         7358092398  54763573  7358092398    161.06\n",
       "54891208 54891397    54891208    54891397    101.15"
      ]
     },
     "execution_count": 6,
     "metadata": {},
     "output_type": "execute_result"
    }
   ],
   "source": [
    "network.edges_df.head()"
   ]
  },
  {
   "cell_type": "markdown",
   "metadata": {},
   "source": [
    "### Saving and reloading networks\n",
    "\n",
    "You can't directly save a Pandana network object, but you can easily recreate it from the nodes and edges.\n",
    "- [pandana.Network()](http://udst.github.io/pandana/network.html#pandana.network.Network)"
   ]
  },
  {
   "cell_type": "code",
   "execution_count": 7,
   "metadata": {},
   "outputs": [],
   "source": [
    "network.nodes_df.to_csv('nodes.csv')\n",
    "network.edges_df.to_csv('edges.csv')"
   ]
  },
  {
   "cell_type": "code",
   "execution_count": 8,
   "metadata": {},
   "outputs": [],
   "source": [
    "nodes = pd.read_csv('nodes.csv', index_col=0)\n",
    "edges = pd.read_csv('edges.csv', index_col=[0,1])"
   ]
  },
  {
   "cell_type": "code",
   "execution_count": 9,
   "metadata": {},
   "outputs": [],
   "source": [
    "network = pandana.Network(nodes['x'], nodes['y'], \n",
    "                          edges['from'], edges['to'], edges[['distance']])"
   ]
  },
  {
   "cell_type": "code",
   "execution_count": null,
   "metadata": {},
   "outputs": [],
   "source": []
  },
  {
   "cell_type": "markdown",
   "metadata": {},
   "source": [
    "<a id='section2'></a>\n",
    "\n",
    "## 2. Shortest paths\n",
    "\n",
    "This functionality was added in Pandana v0.5.\n",
    "\n",
    "### Load some restaurant locations\n",
    "\n",
    "Here we'll load the locations of restaurants listed on Open Street Map (using the same OSMnet extension as above), and then calculate some shortest paths between them.\n",
    "- [pandana.loaders.osm.node_query()](http://udst.github.io/pandana/loaders.html#pandana.loaders.osm.node_query)"
   ]
  },
  {
   "cell_type": "code",
   "execution_count": 10,
   "metadata": {},
   "outputs": [],
   "source": [
    "restaurants = osm.node_query(\n",
    "    37.698, -122.517, 37.819, -122.354, tags='\"amenity\"=\"restaurant\"')"
   ]
  },
  {
   "cell_type": "markdown",
   "metadata": {},
   "source": [
    "Choose two at random:"
   ]
  },
  {
   "cell_type": "code",
   "execution_count": 11,
   "metadata": {},
   "outputs": [
    {
     "data": {
      "text/html": [
       "<div>\n",
       "<style scoped>\n",
       "    .dataframe tbody tr th:only-of-type {\n",
       "        vertical-align: middle;\n",
       "    }\n",
       "\n",
       "    .dataframe tbody tr th {\n",
       "        vertical-align: top;\n",
       "    }\n",
       "\n",
       "    .dataframe thead th {\n",
       "        text-align: right;\n",
       "    }\n",
       "</style>\n",
       "<table border=\"1\" class=\"dataframe\">\n",
       "  <thead>\n",
       "    <tr style=\"text-align: right;\">\n",
       "      <th></th>\n",
       "      <th>lat</th>\n",
       "      <th>lon</th>\n",
       "      <th>amenity</th>\n",
       "      <th>cuisine</th>\n",
       "      <th>name</th>\n",
       "      <th>wheelchair</th>\n",
       "      <th>addr:city</th>\n",
       "      <th>addr:country</th>\n",
       "      <th>addr:housenumber</th>\n",
       "      <th>addr:postcode</th>\n",
       "      <th>...</th>\n",
       "      <th>height</th>\n",
       "      <th>cocktails</th>\n",
       "      <th>music</th>\n",
       "      <th>payment:american_express</th>\n",
       "      <th>changing_table</th>\n",
       "      <th>changing_table:count</th>\n",
       "      <th>changing_table:location</th>\n",
       "      <th>bar</th>\n",
       "      <th>brewery</th>\n",
       "      <th>strapline</th>\n",
       "    </tr>\n",
       "    <tr>\n",
       "      <th>id</th>\n",
       "      <th></th>\n",
       "      <th></th>\n",
       "      <th></th>\n",
       "      <th></th>\n",
       "      <th></th>\n",
       "      <th></th>\n",
       "      <th></th>\n",
       "      <th></th>\n",
       "      <th></th>\n",
       "      <th></th>\n",
       "      <th></th>\n",
       "      <th></th>\n",
       "      <th></th>\n",
       "      <th></th>\n",
       "      <th></th>\n",
       "      <th></th>\n",
       "      <th></th>\n",
       "      <th></th>\n",
       "      <th></th>\n",
       "      <th></th>\n",
       "      <th></th>\n",
       "    </tr>\n",
       "  </thead>\n",
       "  <tbody>\n",
       "    <tr>\n",
       "      <th>7044895254</th>\n",
       "      <td>37.76</td>\n",
       "      <td>-122.42</td>\n",
       "      <td>restaurant</td>\n",
       "      <td>greek</td>\n",
       "      <td>Souvla</td>\n",
       "      <td>NaN</td>\n",
       "      <td>San Francisco</td>\n",
       "      <td>NaN</td>\n",
       "      <td>758</td>\n",
       "      <td>94110</td>\n",
       "      <td>...</td>\n",
       "      <td>NaN</td>\n",
       "      <td>NaN</td>\n",
       "      <td>NaN</td>\n",
       "      <td>NaN</td>\n",
       "      <td>NaN</td>\n",
       "      <td>NaN</td>\n",
       "      <td>NaN</td>\n",
       "      <td>NaN</td>\n",
       "      <td>NaN</td>\n",
       "      <td>NaN</td>\n",
       "    </tr>\n",
       "    <tr>\n",
       "      <th>4945080616</th>\n",
       "      <td>37.75</td>\n",
       "      <td>-122.42</td>\n",
       "      <td>restaurant</td>\n",
       "      <td>mexican</td>\n",
       "      <td>Chavita's Mexican Restaurant</td>\n",
       "      <td>NaN</td>\n",
       "      <td>San Francisco</td>\n",
       "      <td>NaN</td>\n",
       "      <td>3006</td>\n",
       "      <td>94110</td>\n",
       "      <td>...</td>\n",
       "      <td>NaN</td>\n",
       "      <td>NaN</td>\n",
       "      <td>NaN</td>\n",
       "      <td>NaN</td>\n",
       "      <td>NaN</td>\n",
       "      <td>NaN</td>\n",
       "      <td>NaN</td>\n",
       "      <td>NaN</td>\n",
       "      <td>NaN</td>\n",
       "      <td>NaN</td>\n",
       "    </tr>\n",
       "  </tbody>\n",
       "</table>\n",
       "<p>2 rows × 117 columns</p>\n",
       "</div>"
      ],
      "text/plain": [
       "             lat     lon     amenity  cuisine                          name  \\\n",
       "id                                                                            \n",
       "7044895254 37.76 -122.42  restaurant    greek                        Souvla   \n",
       "4945080616 37.75 -122.42  restaurant  mexican  Chavita's Mexican Restaurant   \n",
       "\n",
       "           wheelchair      addr:city addr:country addr:housenumber  \\\n",
       "id                                                                   \n",
       "7044895254        NaN  San Francisco          NaN              758   \n",
       "4945080616        NaN  San Francisco          NaN             3006   \n",
       "\n",
       "           addr:postcode  ... height cocktails music payment:american_express  \\\n",
       "id                        ...                                                   \n",
       "7044895254         94110  ...    NaN       NaN   NaN                      NaN   \n",
       "4945080616         94110  ...    NaN       NaN   NaN                      NaN   \n",
       "\n",
       "           changing_table changing_table:count changing_table:location  bar  \\\n",
       "id                                                                            \n",
       "7044895254            NaN                  NaN                     NaN  NaN   \n",
       "4945080616            NaN                  NaN                     NaN  NaN   \n",
       "\n",
       "           brewery strapline  \n",
       "id                            \n",
       "7044895254     NaN       NaN  \n",
       "4945080616     NaN       NaN  \n",
       "\n",
       "[2 rows x 117 columns]"
      ]
     },
     "execution_count": 11,
     "metadata": {},
     "output_type": "execute_result"
    }
   ],
   "source": [
    "res = restaurants.sample(2)\n",
    "res"
   ]
  },
  {
   "cell_type": "markdown",
   "metadata": {},
   "source": [
    "### Calculate the shortest route between them\n",
    "\n",
    "First, identify the nearest node to each restaurant.\n",
    "- [network.get_node_ids()](http://udst.github.io/pandana/network.html#pandana.network.Network.get_node_ids)"
   ]
  },
  {
   "cell_type": "code",
   "execution_count": 12,
   "metadata": {},
   "outputs": [
    {
     "data": {
      "text/plain": [
       "array([5443111232, 4021550352])"
      ]
     },
     "execution_count": 12,
     "metadata": {},
     "output_type": "execute_result"
    }
   ],
   "source": [
    "nodes = network.get_node_ids(res.lon, res.lat).values\n",
    "nodes"
   ]
  },
  {
   "cell_type": "markdown",
   "metadata": {},
   "source": [
    "Then get the routing between the nodes.\n",
    "- [network.shortest_path()](http://udst.github.io/pandana/network.html#pandana.network.Network.shortest_path)\n",
    "- [network.shortest_path_length()](http://udst.github.io/pandana/network.html#pandana.network.Network.shortest_path_length)\n",
    "- [network.shortest_path_lengths()](http://udst.github.io/pandana/network.html#pandana.network.Network.shortest_path_lengths)\n"
   ]
  },
  {
   "cell_type": "code",
   "execution_count": 13,
   "metadata": {},
   "outputs": [
    {
     "data": {
      "text/plain": [
       "array([5443111232,   65293593, 4179475362,   65319652, 3863544424,\n",
       "       4179475361,   65319650,   65298401,   65298403,   65302196,\n",
       "         65345534, 5443374295,   65345537, 5443374302,   65322314,\n",
       "         65288852,   65288851,   65288850, 4353708389, 5443374273,\n",
       "       4021550352])"
      ]
     },
     "execution_count": 13,
     "metadata": {},
     "output_type": "execute_result"
    }
   ],
   "source": [
    "network.shortest_path(nodes[0], nodes[1])"
   ]
  },
  {
   "cell_type": "code",
   "execution_count": 14,
   "metadata": {},
   "outputs": [
    {
     "data": {
      "text/plain": [
       "1515.406"
      ]
     },
     "execution_count": 14,
     "metadata": {},
     "output_type": "execute_result"
    }
   ],
   "source": [
    "network.shortest_path_length(nodes[0], nodes[1])"
   ]
  },
  {
   "cell_type": "markdown",
   "metadata": {},
   "source": [
    "This network's distance units are meters."
   ]
  },
  {
   "cell_type": "markdown",
   "metadata": {},
   "source": [
    "### Calculate many shortest paths at once\n",
    "\n",
    "Pandana can generate several million shortest paths in less than a minute."
   ]
  },
  {
   "cell_type": "code",
   "execution_count": 15,
   "metadata": {},
   "outputs": [],
   "source": [
    "restaurant_nodes = network.get_node_ids(restaurants.lon, restaurants.lat).values"
   ]
  },
  {
   "cell_type": "code",
   "execution_count": 16,
   "metadata": {},
   "outputs": [],
   "source": [
    "origs = [o for o in restaurant_nodes for d in restaurant_nodes]\n",
    "dests = [d for o in restaurant_nodes for d in restaurant_nodes]"
   ]
  },
  {
   "cell_type": "code",
   "execution_count": 17,
   "metadata": {},
   "outputs": [
    {
     "name": "stdout",
     "output_type": "stream",
     "text": [
      "CPU times: user 2min 21s, sys: 541 ms, total: 2min 22s\n",
      "Wall time: 20.7 s\n"
     ]
    }
   ],
   "source": [
    "%%time\n",
    "distances = network.shortest_path_lengths(origs, dests)"
   ]
  },
  {
   "cell_type": "markdown",
   "metadata": {},
   "source": [
    "Now we have the distance from each restaurant to each other restaurant."
   ]
  },
  {
   "cell_type": "code",
   "execution_count": 18,
   "metadata": {},
   "outputs": [
    {
     "data": {
      "text/plain": [
       "count   2822400.00\n",
       "mean      14898.82\n",
       "std      208988.95\n",
       "min           0.00\n",
       "25%        2446.33\n",
       "50%        4356.32\n",
       "75%        6552.76\n",
       "max     4294967.29\n",
       "dtype: float64"
      ]
     },
     "execution_count": 18,
     "metadata": {},
     "output_type": "execute_result"
    }
   ],
   "source": [
    "pd.Series(distances).describe()"
   ]
  },
  {
   "cell_type": "code",
   "execution_count": null,
   "metadata": {},
   "outputs": [],
   "source": []
  },
  {
   "cell_type": "markdown",
   "metadata": {},
   "source": [
    "<a id='section3'></a>\n",
    "\n",
    "## 3. Proximity\n",
    "\n",
    "### Find the closest restaurants to each node\n",
    "\n",
    "To do a network-wide calculation like this, we first need to formally add the restaurants into the network.\n",
    "- [network.set_pois()](http://udst.github.io/pandana/network.html#pandana.network.Network.set_pois)"
   ]
  },
  {
   "cell_type": "code",
   "execution_count": 19,
   "metadata": {},
   "outputs": [],
   "source": [
    "network.set_pois(category = 'restaurants',\n",
    "                 maxdist = 1000,\n",
    "                 maxitems = 3,\n",
    "                 x_col = restaurants.lon, \n",
    "                 y_col = restaurants.lat)"
   ]
  },
  {
   "cell_type": "markdown",
   "metadata": {},
   "source": [
    "(The `maxdist` and `maxitems` parameters are the maximum distance and item counts you anticipate using in proximity searches, so that Pandana can optimize the caching.)\n",
    "\n",
    "Now we can run the query.\n",
    " - [network.nearest_pois()](http://udst.github.io/pandana/network.html#pandana.network.Network.nearest_pois)"
   ]
  },
  {
   "cell_type": "code",
   "execution_count": 20,
   "metadata": {},
   "outputs": [
    {
     "data": {
      "text/html": [
       "<div>\n",
       "<style scoped>\n",
       "    .dataframe tbody tr th:only-of-type {\n",
       "        vertical-align: middle;\n",
       "    }\n",
       "\n",
       "    .dataframe tbody tr th {\n",
       "        vertical-align: top;\n",
       "    }\n",
       "\n",
       "    .dataframe thead th {\n",
       "        text-align: right;\n",
       "    }\n",
       "</style>\n",
       "<table border=\"1\" class=\"dataframe\">\n",
       "  <thead>\n",
       "    <tr style=\"text-align: right;\">\n",
       "      <th></th>\n",
       "      <th>1</th>\n",
       "      <th>2</th>\n",
       "      <th>3</th>\n",
       "      <th>poi1</th>\n",
       "      <th>poi2</th>\n",
       "      <th>poi3</th>\n",
       "    </tr>\n",
       "    <tr>\n",
       "      <th>id</th>\n",
       "      <th></th>\n",
       "      <th></th>\n",
       "      <th></th>\n",
       "      <th></th>\n",
       "      <th></th>\n",
       "      <th></th>\n",
       "    </tr>\n",
       "  </thead>\n",
       "  <tbody>\n",
       "    <tr>\n",
       "      <th>33242031</th>\n",
       "      <td>273.17</td>\n",
       "      <td>275.24</td>\n",
       "      <td>290.37</td>\n",
       "      <td>3609348594.00</td>\n",
       "      <td>1478520956.00</td>\n",
       "      <td>1478520961.00</td>\n",
       "    </tr>\n",
       "    <tr>\n",
       "      <th>54763573</th>\n",
       "      <td>282.32</td>\n",
       "      <td>433.90</td>\n",
       "      <td>472.55</td>\n",
       "      <td>1771741233.00</td>\n",
       "      <td>6252387628.00</td>\n",
       "      <td>2657227486.00</td>\n",
       "    </tr>\n",
       "    <tr>\n",
       "      <th>54891208</th>\n",
       "      <td>226.17</td>\n",
       "      <td>317.33</td>\n",
       "      <td>339.41</td>\n",
       "      <td>2453599646.00</td>\n",
       "      <td>2453600264.00</td>\n",
       "      <td>5512661856.00</td>\n",
       "    </tr>\n",
       "    <tr>\n",
       "      <th>54891395</th>\n",
       "      <td>266.57</td>\n",
       "      <td>362.67</td>\n",
       "      <td>391.63</td>\n",
       "      <td>2453599646.00</td>\n",
       "      <td>2453600264.00</td>\n",
       "      <td>6146447085.00</td>\n",
       "    </tr>\n",
       "    <tr>\n",
       "      <th>54891397</th>\n",
       "      <td>125.03</td>\n",
       "      <td>216.18</td>\n",
       "      <td>398.20</td>\n",
       "      <td>2453599646.00</td>\n",
       "      <td>2453600264.00</td>\n",
       "      <td>6124173112.00</td>\n",
       "    </tr>\n",
       "  </tbody>\n",
       "</table>\n",
       "</div>"
      ],
      "text/plain": [
       "              1      2      3          poi1          poi2          poi3\n",
       "id                                                                     \n",
       "33242031 273.17 275.24 290.37 3609348594.00 1478520956.00 1478520961.00\n",
       "54763573 282.32 433.90 472.55 1771741233.00 6252387628.00 2657227486.00\n",
       "54891208 226.17 317.33 339.41 2453599646.00 2453600264.00 5512661856.00\n",
       "54891395 266.57 362.67 391.63 2453599646.00 2453600264.00 6146447085.00\n",
       "54891397 125.03 216.18 398.20 2453599646.00 2453600264.00 6124173112.00"
      ]
     },
     "execution_count": 20,
     "metadata": {},
     "output_type": "execute_result"
    }
   ],
   "source": [
    "results = network.nearest_pois(distance = 1000,\n",
    "                               category = 'restaurants',\n",
    "                               num_pois = 3,\n",
    "                               include_poi_ids = True)\n",
    "results.head()"
   ]
  },
  {
   "cell_type": "markdown",
   "metadata": {},
   "source": [
    "These are the distances (in meters) and IDs of the three closest restaurants to each network node."
   ]
  },
  {
   "cell_type": "code",
   "execution_count": null,
   "metadata": {},
   "outputs": [],
   "source": []
  },
  {
   "cell_type": "markdown",
   "metadata": {},
   "source": [
    "<a id='section4'></a>\n",
    "\n",
    "## 4. Accessibility\n",
    "\n",
    "### How many restaurants are within 500 meters of each node?\n",
    "\n",
    "Pandana calls this kind of calculation an *aggregation*. It requires passing a list of network nodes and associated values. \n",
    "\n",
    "In this case, the \"value\" is just presence of a restaurant, but it could also be characteristics like square footage of a building or income of a household.\n",
    "\n",
    "- [network.get_node_ids()](http://udst.github.io/pandana/network.html#pandana.network.Network.get_node_ids)\n",
    "- [network.set()](http://udst.github.io/pandana/network.html#pandana.network.Network.set_pois)"
   ]
  },
  {
   "cell_type": "code",
   "execution_count": 21,
   "metadata": {},
   "outputs": [],
   "source": [
    "restaurant_nodes = network.get_node_ids(restaurants.lon, restaurants.lat)"
   ]
  },
  {
   "cell_type": "code",
   "execution_count": 22,
   "metadata": {},
   "outputs": [],
   "source": [
    "network.set(restaurant_nodes, \n",
    "            name = 'restaurants')"
   ]
  },
  {
   "cell_type": "markdown",
   "metadata": {},
   "source": [
    "Now we can run the query.\n",
    "\n",
    "- [network.aggregate()](http://udst.github.io/pandana/network.html#pandana.network.Network.aggregate)"
   ]
  },
  {
   "cell_type": "code",
   "execution_count": 23,
   "metadata": {},
   "outputs": [
    {
     "data": {
      "text/plain": [
       "count   41623.00\n",
       "mean       11.74\n",
       "std        19.71\n",
       "min         0.00\n",
       "25%         0.00\n",
       "50%         3.00\n",
       "75%        15.00\n",
       "max       146.00\n",
       "dtype: float64"
      ]
     },
     "execution_count": 23,
     "metadata": {},
     "output_type": "execute_result"
    }
   ],
   "source": [
    "accessibility = network.aggregate(distance = 500,\n",
    "                                  type = 'count',\n",
    "                                  name = 'restaurants')\n",
    "accessibility.describe()"
   ]
  },
  {
   "cell_type": "markdown",
   "metadata": {},
   "source": [
    "Note that you can also calculate means, sums, percentiles, and other metrics, as well as applying linear or exponential \"decay\" to more distant values."
   ]
  },
  {
   "cell_type": "code",
   "execution_count": null,
   "metadata": {},
   "outputs": [],
   "source": []
  },
  {
   "cell_type": "markdown",
   "metadata": {},
   "source": [
    "<a id='section5'></a>\n",
    "\n",
    "## 5. Visualization\n",
    "\n",
    "Pandana's built-in `plot` function uses an older Matplotlib extension called Basemap that's now difficult to install. So here we'll just use Matplotlib directly.\n",
    "\n",
    "### Mapping restaurant accessibility"
   ]
  },
  {
   "cell_type": "code",
   "execution_count": 24,
   "metadata": {},
   "outputs": [
    {
     "name": "stdout",
     "output_type": "stream",
     "text": [
      "2.2.4\n"
     ]
    }
   ],
   "source": [
    "import matplotlib\n",
    "from matplotlib import pyplot as plt\n",
    "\n",
    "print(matplotlib.__version__)"
   ]
  },
  {
   "cell_type": "code",
   "execution_count": 25,
   "metadata": {},
   "outputs": [
    {
     "data": {
      "image/png": "[encoded data removed]",
      "text/plain": [
       "<Figure size 720x576 with 2 Axes>"
      ]
     },
     "metadata": {
      "needs_background": "light"
     },
     "output_type": "display_data"
    }
   ],
   "source": [
    "fig, ax = plt.subplots(figsize=(10,8))\n",
    "\n",
    "plt.title('San Francisco: Restaurants within 500m')\n",
    "plt.scatter(network.nodes_df.x, network.nodes_df.y, \n",
    "            c=accessibility, s=1, cmap='YlOrRd', \n",
    "            norm=matplotlib.colors.LogNorm())\n",
    "cb = plt.colorbar()\n",
    "\n",
    "plt.show()"
   ]
  },
  {
   "cell_type": "code",
   "execution_count": null,
   "metadata": {},
   "outputs": [],
   "source": []
  }
 ],
 "metadata": {
  "kernelspec": {
   "display_name": "Python 3",
   "language": "python",
   "name": "python3"
  },
  "language_info": {
   "codemirror_mode": {
    "name": "ipython",
    "version": 3
   },
   "file_extension": ".py",
   "mimetype": "text/x-python",
   "name": "python",
   "nbconvert_exporter": "python",
   "pygments_lexer": "ipython3",
   "version": "3.8.2"
  }
 },
 "nbformat": 4,
 "nbformat_minor": 1
}
